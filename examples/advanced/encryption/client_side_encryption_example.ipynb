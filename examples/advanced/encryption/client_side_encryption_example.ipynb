{
 "cells": [
  {
   "cell_type": "markdown",
   "id": "5eded671f3e94199",
   "metadata": {
    "collapsed": false
   },
   "source": [
    "# About\n",
    "\n",
    "In this advanced example we demonstrate how client-side encryption can work in Chroma. This is a useful technique if the user is willing to trade off restricted functionality for increased security.\n",
    "\n",
    "In the below example user will not be able to search the text in the document using `$contains` filter with `where_document`."
   ]
  },
  {
   "cell_type": "code",
   "execution_count": null,
   "id": "ee9b9e3d0a471b0f",
   "metadata": {
    "ExecuteTime": {
     "end_time": "2023-09-09T12:17:01.971575Z",
     "start_time": "2023-09-09T12:16:57.946544Z"
    },
    "collapsed": false
   },
   "outputs": [],
   "source": [
    "# Install cryptography (required) and essential-generators (optional, for generating random sentences te demonstrate the functionality)\n",
    "%pip install cryptography essential-generators"
   ]
  },
  {
   "cell_type": "code",
   "execution_count": 2,
   "id": "3f1b79527da7c622",
   "metadata": {
    "ExecuteTime": {
     "end_time": "2023-09-09T12:17:07.156559Z",
     "start_time": "2023-09-09T12:17:04.182619Z"
    },
    "collapsed": false
   },
   "outputs": [
    {
     "name": "stdout",
     "output_type": "stream",
     "text": [
      "Encrypted documents:  ['gAAAAABk_GJCeohCgHQxjZeXt7AryHzgXTAZyXMrXJtu2H7hLz3d7OdL8qyEkIGMGhBmkUIetsY9D1uJOmCov3vCAfqHUfn_Zq4bCIR-dl8Qs-SspO7Fp3NC-v5c-Na2pCi3kvl_gODL9hVZVxlaX2GhcrLkOfbMTA==', 'gAAAAABk_GJDL34rIgei_mip0SPINA61SPsyiKQ1mnS1GGA-tOrU3XZa-db5Ab4Ly_64-Cpa4dKVuFptsToEXK9BYMRZMKhttkmBjhgzJNppjut28rQZhiZ4Ps5veWyzx3BMF2sC5VOVbKuhZN2esVLH17lDBrwfROEw-RWAyETyrUvYqyRhyHrC-jaU4mp0klptkNTL7m5g4XajSanfDkrZ55W_UsRyrQ==', 'gAAAAABk_GJDcpUOxomev-fmwNf2UZI_zC13M3IEMfHOBlnKUILcF61Vp4hPz06BPQiiQoEMssVrASVRHxBeTpTaG_pbzNz2qO58wsXOTknfzflv7S7kS-QK0_-6QixKK62fymIQIqM5', 'gAAAAABk_GJDKR58PZ-loDknZyRszFOGlLSY3KpsZ8cVLUtggw8LUzY4ThLvooPKXC7Qau7F_XTHctNV7x0643wj0ScdEIIA3USmflk9wrPifdkQrOQvGkCq6nCzLLrGZ4VitIfF5UFMKzVy9QQ42W_HDV9gaTvkGKO5SCMPVsUAXkL3AVdk6wA=', 'gAAAAABk_GJD7lqa3FpitWmW2GKJcDN06KH8EftEfP3tGS7C0AkSXd-VtoImPCmkn8mzlAQRemYrmPMJlezFAAconED4ow5-FdRRQiUQo-o4N5BOfwZOA8wFbQgo69rJSc_AILrBr-0QOzm8rwlJAi4ztFY3L4ZVsiSUW72b5d_S4WJk67SoEOc=', 'gAAAAABk_GJD1RHpr1F6Zx5-flBP8py1BRUNzsmx1ed0DMOEfCisxWTXyyqseby0YLbyQKq25Se7lQV2GRb33xc957YGXqAA6cBfHjnZTvCPoZHqmcyJfqzCs9-oUQ72wF7FEeYxagRsKM6v7r8F1W4CBozCRM3pLQ==', 'gAAAAABk_GJDcA4gjwGtNTxbOVxm4KGnOJhky6vHO212qYBru3mAZo368VPX02DvhgaOubmX0weXiM-QT7r-XC4Wg8Rz38csxPqzkiCdYdQzVLnbDZ6SA8XCbN0uGDlXvpX4p8-NXlWt', 'gAAAAABk_GJDLBe1mP25MQLoib-LwrCR55qO8ZzvR24vei2hG6KnzjC4JpZDtJc7818hj8VfCddn6My29L3NwNTWU1bQSxzSgJ6BEeVMz93CL3EzbJzbPzi-6NTMhrHPLPvmT69KVe7tk-Vq4E5hahcbKakSfUM-q4s8XuMHryZYBaURQkBap_k=', 'gAAAAABk_GJDUK0rCyFp74IOna5_Ui903pc9RIBiBG0K79IRX-6IOIl9yhWL_fuQccoVIoHXVHLTcHrEwPJZEGvAjb0D5FS50lXDTKAF6Aa35jNn3fam4VI=', 'gAAAAABk_GJDGjqPyeHGuBP2jSzjciWnDtx-MGtBGBVLxZU3ZhfK4nJmtmROxECWrbJUHNb5NcjyexHzVfx_wxiIX2UKHnFByj_Z1-W2xnULy8BzbFFS-wWrG-CW0fVavs7WKddvjRBD']\n"
     ]
    }
   ],
   "source": [
    "import uuid\n",
    "from essential_generators import DocumentGenerator\n",
    "from cryptography.fernet import Fernet\n",
    "from chromadb import Settings\n",
    "import chromadb\n",
    "\n",
    "client = chromadb.Client(settings=Settings(allow_reset=True))\n",
    "client.reset()\n",
    "gen = DocumentGenerator()\n",
    "key = Fernet.generate_key()\n",
    "f = Fernet(key)\n",
    "\n",
    "encrypt  = lambda x: f.encrypt(x.encode()).decode()\n",
    "col = client.get_or_create_collection(\"test1\")\n",
    "\n",
    "entries = 10\n",
    "encrypted_docs = [encrypt(gen.sentence()) for _ in range(entries)]\n",
    "print(\"Encrypted documents: \",encrypted_docs)\n",
    "col.add(ids=[f\"{uuid.uuid4()}\" for _id in range(entries)],embeddings=[[1,2,3] for _ in range(entries)],documents=encrypted_docs,metadatas=[{\"test\":\"test\"} for _ in range(entries)])"
   ]
  },
  {
   "cell_type": "code",
   "execution_count": 3,
   "id": "dbc745256bdf167c",
   "metadata": {
    "ExecuteTime": {
     "end_time": "2023-09-09T12:17:10.890995Z",
     "start_time": "2023-09-09T12:17:10.880960Z"
    },
    "collapsed": false
   },
   "outputs": [
    {
     "name": "stdout",
     "output_type": "stream",
     "text": [
      "Decrypted documents:  ['Temperature range regular civil and criminal law are valid', 'Fixed to traffic control around a construction site next to each other. Social psychologists study', 'Californians are America\". Every', 'Or quarry. and general goods imported from United States and China, the', 'Sun (at directions. Ethics implicitly regulates areas and grade levels tested.', 'Same ratio traditional values and cultural norms. They', 'And arrived influence because of', 'To cataplexy, planet. Models have been banned from playing Gaelic football.', 'A cognitive to 1972, and the', 'Schools (CPS) sampling in quality']\n"
     ]
    }
   ],
   "source": [
    "# Note if your data has been encrypted with different key or is in plain text the decryption will fail\n",
    "decrypt = lambda x: f.decrypt(x.encode()).decode()\n",
    "collection_with_encrypted_docs = client.get_or_create_collection(\"test1\")\n",
    "print(\"Decrypted documents: \",[decrypt(x) for x in collection_with_encrypted_docs.get()['documents']])"
   ]
  },
  {
   "cell_type": "markdown",
   "id": "50ea9dc2a537f3ff",
   "metadata": {
    "collapsed": false
   },
   "source": [
    "Entries in DB are also encrypted\n",
    "\n",
    "Note: The below example was taken from client/server by examining the chroma.sqlite3 file.\n",
    "\n",
    "![Encrypted DB](client-side-encrypted-db-docs.png)"
   ]
  },
  {
   "cell_type": "code",
   "execution_count": 5,
   "id": "f686f35026500b5d",
   "metadata": {
    "ExecuteTime": {
     "end_time": "2023-09-09T12:19:24.560859Z",
     "start_time": "2023-09-09T12:19:24.362048Z"
    },
    "collapsed": false
   },
   "outputs": [],
   "source": [
    "!python -c \"from cryptography.fernet import Fernet; print(Fernet.generate_key().decode())\" > symmentric_encryption.key"
   ]
  },
  {
   "cell_type": "markdown",
   "id": "43b896303a66251a",
   "metadata": {
    "collapsed": false
   },
   "source": [
    "# Future Work\n",
    "\n",
    "It is possible to also create a SSE (Searchable Symmetric Encryption) implementation, but it comes with the following drawbacks:\n",
    "\n",
    "- Complex to implement correctly.\n",
    "- Potential for information leakage, depending on the scheme (e.g., revealing access patterns or search patterns).\n",
    "- Not as secure as traditional encryption in terms of hiding all data access patterns.\n"
   ]
  }
 ],
 "metadata": {
  "kernelspec": {
   "display_name": "Python 3",
   "language": "python",
   "name": "python3"
  },
  "language_info": {
   "codemirror_mode": {
    "name": "ipython",
    "version": 2
   },
   "file_extension": ".py",
   "mimetype": "text/x-python",
   "name": "python",
   "nbconvert_exporter": "python",
   "pygments_lexer": "ipython2",
   "version": "2.7.6"
  }
 },
 "nbformat": 4,
 "nbformat_minor": 5
}
