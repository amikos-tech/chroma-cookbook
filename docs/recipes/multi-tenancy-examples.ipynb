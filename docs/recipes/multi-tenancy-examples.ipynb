{
 "cells": [
  {
   "cell_type": "code",
   "outputs": [
    {
     "name": "stderr",
     "output_type": "stream",
     "text": [
      "\u001B[0;93m2024-02-20 16:37:31.991729 [W:onnxruntime:, helper.cc:67 IsInputSupported] CoreML does not support input dim > 16384. Input:embeddings.word_embeddings.weight, shape: {30522,384}\u001B[m\n",
      "\u001B[0;93m2024-02-20 16:37:31.992032 [W:onnxruntime:, coreml_execution_provider.cc:81 GetCapability] CoreMLExecutionProvider::GetCapability, number of partitions supported by CoreML: 49 number of nodes in the graph: 323 number of nodes supported by CoreML: 231\u001B[m\n"
     ]
    }
   ],
   "source": [
    "import chromadb\n",
    "from chromadb import DEFAULT_DATABASE\n",
    "from chromadb import Settings\n",
    "\n",
    "adminClient = chromadb.AdminClient(Settings(\n",
    "    chroma_api_impl=\"chromadb.api.segment.SegmentAPI\",\n",
    "    is_persistent=True,\n",
    "    persist_directory=\"multitenant\",\n",
    "))\n",
    "\n",
    "\n",
    "# For Remote Chroma server:\n",
    "# \n",
    "# adminClient= chromadb.AdminClient(Settings(\n",
    "#   chroma_api_impl=\"chromadb.api.fastapi.FastAPI\",\n",
    "#   chroma_server_host=\"localhost\",\n",
    "#   chroma_server_http_port=\"8000\",\n",
    "# ))\n",
    "\n",
    "def get_or_create_tenant_for_user(user_id):\n",
    "    tenant_id = f\"tenant_user:{user_id}\"\n",
    "    try:\n",
    "        adminClient.get_tenant(tenant_id)\n",
    "    except Exception as e:\n",
    "        adminClient.create_tenant(tenant_id)\n",
    "        adminClient.create_database(DEFAULT_DATABASE, tenant_id)\n",
    "    return tenant_id, DEFAULT_DATABASE\n",
    "\n",
    "\n",
    "user_id = \"user1\"\n",
    "\n",
    "tenant, database = get_or_create_tenant_for_user(user_id)\n",
    "# replace with chromadb.HttpClient for remote Chroma server\n",
    "client = chromadb.PersistentClient(path=\"multitenant\", tenant=tenant, database=database)\n",
    "collection = client.get_or_create_collection(\"user_collection\")\n",
    "collection.add(\n",
    "    documents=[\"This is document1\", \"This is document2\"],\n",
    "    ids=[\"doc1\", \"doc2\"],\n",
    ")"
   ],
   "metadata": {
    "collapsed": false,
    "ExecuteTime": {
     "end_time": "2024-02-20T14:37:32.625419Z",
     "start_time": "2024-02-20T14:37:31.927566Z"
    }
   },
   "id": "af99a7b194d34a41",
   "execution_count": 6
  },
  {
   "cell_type": "code",
   "outputs": [],
   "source": [
    "import chromadb\n",
    "from chromadb import DEFAULT_TENANT\n",
    "from chromadb import Settings\n",
    "\n",
    "adminClient = chromadb.AdminClient(Settings(\n",
    "    is_persistent=True,\n",
    "    persist_directory=\"multitenant\",\n",
    "))\n",
    "\n",
    "\n",
    "# For Remote Chroma server:\n",
    "# \n",
    "# adminClient= chromadb.AdminClient(Settings(\n",
    "#   chroma_api_impl=\"chromadb.api.fastapi.FastAPI\",\n",
    "#   chroma_server_host=\"localhost\",\n",
    "#   chroma_server_http_port=\"8000\",\n",
    "# ))\n",
    "\n",
    "def get_or_create_db_for_user(user_id):\n",
    "    database = f\"db:{user_id}\"\n",
    "    try:\n",
    "        adminClient.get_database(database)\n",
    "    except Exception as e:\n",
    "        adminClient.create_database(database, DEFAULT_TENANT)\n",
    "    return DEFAULT_TENANT, database\n",
    "\n",
    "\n",
    "user_id = \"user_John\"\n",
    "\n",
    "tenant, database = get_or_create_db_for_user(user_id)\n",
    "# replace with chromadb.HttpClient for remote Chroma server\n",
    "client = chromadb.PersistentClient(path=\"multitenant\", tenant=tenant, database=database)\n",
    "collection = client.get_or_create_collection(\"user_collection\")\n",
    "collection.add(\n",
    "    documents=[\"This is document1\", \"This is document2\"],\n",
    "    ids=[\"doc1\", \"doc2\"],\n",
    ")"
   ],
   "metadata": {
    "collapsed": false,
    "ExecuteTime": {
     "end_time": "2024-02-20T14:41:05.235517Z",
     "start_time": "2024-02-20T14:41:05.030483Z"
    }
   },
   "id": "38479aa0ea30f31b",
   "execution_count": 7
  },
  {
   "cell_type": "code",
   "outputs": [],
   "source": [],
   "metadata": {
    "collapsed": false
   },
   "id": "408282a57ad5bf2"
  }
 ],
 "metadata": {
  "kernelspec": {
   "display_name": "Python 3",
   "language": "python",
   "name": "python3"
  },
  "language_info": {
   "codemirror_mode": {
    "name": "ipython",
    "version": 2
   },
   "file_extension": ".py",
   "mimetype": "text/x-python",
   "name": "python",
   "nbconvert_exporter": "python",
   "pygments_lexer": "ipython2",
   "version": "2.7.6"
  }
 },
 "nbformat": 4,
 "nbformat_minor": 5
}
